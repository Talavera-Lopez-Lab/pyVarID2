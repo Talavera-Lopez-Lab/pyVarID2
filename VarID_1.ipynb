{
 "cells": [
  {
   "cell_type": "code",
   "execution_count": 1,
   "metadata": {},
   "outputs": [],
   "source": [
    "import pyreadr\n",
    "import pandas as pd\n",
    "import os\n",
    "from RaceID import SCseq\n",
    "import varID_functions\n",
    "from scipy.sparse import csr_matrix\n",
    "import numpy as np\n",
    "import RaceID_utils\n",
    "import re\n",
    "import statsmodels.formula.api as smf\n",
    "import matplotlib.pyplot as plt"
   ]
  },
  {
   "cell_type": "code",
   "execution_count": 2,
   "metadata": {},
   "outputs": [],
   "source": [
    "input_data = './input_data/'\n",
    "rds_files = ['wt.rds', 'EPO.rds', 'tf.rds']\n",
    "data_object = []\n",
    "for file in rds_files:\n",
    "    file_path = os.path.join(input_data, file)\n",
    "    result = pyreadr.read_r(file_path)\n",
    "    data_object.append(result[None])"
   ]
  },
  {
   "cell_type": "code",
   "execution_count": 3,
   "metadata": {},
   "outputs": [],
   "source": [
    "wt = data_object[0]"
   ]
  },
  {
   "cell_type": "code",
   "execution_count": 4,
   "metadata": {},
   "outputs": [],
   "source": [
    "sN = SCseq(wt)"
   ]
  },
  {
   "cell_type": "code",
   "execution_count": 5,
   "metadata": {},
   "outputs": [],
   "source": [
    "\n",
    "# Apply the regular expression pattern\n",
    "pattern = \"^(mt|Rp(l|s)|Gm\\\\d)\"\n",
    "CGenes = [gene_name for idx, gene_name in enumerate(sN.expdata.index) if re.match(pattern, gene_name)]\n",
    "\n",
    "sN.filterdata(mintotal=1000, CGenes=CGenes)"
   ]
  },
  {
   "cell_type": "code",
   "execution_count": 18,
   "metadata": {},
   "outputs": [
    {
     "data": {
      "text/plain": [
       "(28205, 5432)"
      ]
     },
     "execution_count": 18,
     "metadata": {},
     "output_type": "execute_result"
    }
   ],
   "source": [
    "sN.expdata.shape"
   ]
  },
  {
   "cell_type": "markdown",
   "metadata": {},
   "source": [
    "```R\n",
    "> dim(sN@expdata)\n",
    "[1] 28205  5432\n",
    "```"
   ]
  },
  {
   "cell_type": "code",
   "execution_count": 19,
   "metadata": {},
   "outputs": [
    {
     "data": {
      "text/plain": [
       "(28205, 4742)"
      ]
     },
     "execution_count": 19,
     "metadata": {},
     "output_type": "execute_result"
    }
   ],
   "source": [
    "sN.ndata.shape"
   ]
  },
  {
   "cell_type": "markdown",
   "metadata": {},
   "source": [
    "```R\n",
    "> dim(sN@ndata)\n",
    "[1] 28205  4742\n",
    "```"
   ]
  },
  {
   "cell_type": "code",
   "execution_count": 20,
   "metadata": {},
   "outputs": [
    {
     "data": {
      "text/plain": [
       "3439"
      ]
     },
     "execution_count": 20,
     "metadata": {},
     "output_type": "execute_result"
    }
   ],
   "source": [
    "len(sN.genes)"
   ]
  },
  {
   "cell_type": "markdown",
   "metadata": {},
   "source": [
    "```R\n",
    "> length(sN@genes)\n",
    "[1] 3439\n",
    "```"
   ]
  },
  {
   "cell_type": "markdown",
   "metadata": {},
   "source": [
    "### fitted model params"
   ]
  },
  {
   "cell_type": "code",
   "execution_count": 17,
   "metadata": {},
   "outputs": [
    {
     "name": "stdout",
     "output_type": "stream",
     "text": [
      "Intercept     1.167001\n",
      "ml            1.462929\n",
      "I(ml ** 2)    0.144933\n",
      "dtype: float64 \n",
      " Intercept     0.011766\n",
      "ml            0.008179\n",
      "I(ml ** 2)    0.003251\n",
      "dtype: float64\n"
     ]
    }
   ],
   "source": [
    "print(sN.background['vfit'].params, '\\n',sN.background['vfit'].bse)"
   ]
  },
  {
   "cell_type": "markdown",
   "metadata": {},
   "source": [
    "R output\n",
    "```R\n",
    "> summary(sN@background$vfit)\n",
    "\n",
    "Call:\n",
    "lm(formula = vl ~ ml + I(ml^2))\n",
    "\n",
    "Residuals:\n",
    "    Min      1Q  Median      3Q     Max \n",
    "-2.0597 -0.2316 -0.1075  0.0916  6.8109 \n",
    "\n",
    "Coefficients:\n",
    "            Estimate Std. Error t value Pr(>|t|)    \n",
    "(Intercept) 1.167305   0.011766   99.21   <2e-16 ***\n",
    "ml          1.462929   0.008179  178.86   <2e-16 ***\n",
    "I(ml^2)     0.144933   0.003251   44.59   <2e-16 ***\n",
    "---\n",
    "Signif. codes:  0 ‘***’ 0.001 ‘**’ 0.01 ‘*’ 0.05 ‘.’ 0.1 ‘ ’ 1\n",
    "\n",
    "Residual standard error: 0.4794 on 3436 degrees of freedom\n",
    "Multiple R-squared:  0.9092,\tAdjusted R-squared:  0.9091 \n",
    "F-statistic: 1.72e+04 on 2 and 3436 DF,  p-value: < 2.2e-16\n",
    "```"
   ]
  },
  {
   "cell_type": "markdown",
   "metadata": {},
   "source": [
    "### cluster features"
   ]
  },
  {
   "cell_type": "code",
   "execution_count": 10,
   "metadata": {},
   "outputs": [
    {
     "data": {
      "text/plain": [
       "1031"
      ]
     },
     "execution_count": 10,
     "metadata": {},
     "output_type": "execute_result"
    }
   ],
   "source": [
    "len(sN.cluster['features'])"
   ]
  },
  {
   "cell_type": "markdown",
   "metadata": {},
   "source": [
    "R output\n",
    "```R\n",
    "> length(sN@cluster$features)\n",
    "[1] 1031\n",
    "```"
   ]
  }
 ],
 "metadata": {
  "kernelspec": {
   "display_name": "VarID-env",
   "language": "python",
   "name": "python3"
  },
  "language_info": {
   "codemirror_mode": {
    "name": "ipython",
    "version": 3
   },
   "file_extension": ".py",
   "mimetype": "text/x-python",
   "name": "python",
   "nbconvert_exporter": "python",
   "pygments_lexer": "ipython3",
   "version": "3.10.14"
  }
 },
 "nbformat": 4,
 "nbformat_minor": 2
}
