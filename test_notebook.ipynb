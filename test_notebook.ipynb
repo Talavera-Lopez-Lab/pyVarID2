{
 "cells": [
  {
   "cell_type": "code",
   "execution_count": 10,
   "metadata": {},
   "outputs": [],
   "source": [
    "import pyreadr\n",
    "import pandas as pd\n",
    "import numpy as np\n",
    "import re\n",
    "from RaceID import SCseq\n",
    "import varID_functions\n",
    "from MASS import theta_ml\n",
    "from statsmodels.genmod.generalized_linear_model import GLM\n",
    "from statsmodels.genmod.families import Poisson"
   ]
  },
  {
   "cell_type": "code",
   "execution_count": 2,
   "metadata": {},
   "outputs": [],
   "source": [
    "wt = pyreadr.read_r('input_data/wt.rds')[None]\n",
    "sN = SCseq(wt)\n",
    "# Apply the regular expression pattern\n",
    "pattern = \"^(mt|Rp(l|s)|Gm\\\\d)\"\n",
    "CGenes = [gene_name for idx, gene_name in enumerate(sN.expdata.index) if re.match(pattern, gene_name)]\n",
    "\n",
    "sN.filterdata(mintotal=1000, CGenes=CGenes)\n",
    "expData = sN.getExpData()"
   ]
  },
  {
   "cell_type": "code",
   "execution_count": 14,
   "metadata": {},
   "outputs": [
    {
     "data": {
      "text/plain": [
       "<function varID_functions.nbRegr(x, model_formula, reg_data, reg_names)>"
      ]
     },
     "execution_count": 14,
     "metadata": {},
     "output_type": "execute_result"
    }
   ],
   "source": [
    "varID_functions.nbRegr"
   ]
  },
  {
   "cell_type": "code",
   "execution_count": 21,
   "metadata": {},
   "outputs": [],
   "source": [
    "x = np.array([1, 2, 3])\n",
    "model_formula = 'x ~ var1 + var2'\n",
    "reg_data = pd.DataFrame({\n",
    "    'var1': [10, 20, 30],\n",
    "    'var2': [40, 50, 60]\n",
    "})\n",
    "reg_names = ['var1', 'var2']"
   ]
  },
  {
   "cell_type": "code",
   "execution_count": 22,
   "metadata": {},
   "outputs": [
    {
     "name": "stderr",
     "output_type": "stream",
     "text": [
      "/home/ceger/miniforge3/envs/VarID-env/lib/python3.10/site-packages/statsmodels/regression/_tools.py:121: RuntimeWarning: divide by zero encountered in scalar divide\n",
      "  scale = np.dot(wresid, wresid) / df_resid\n"
     ]
    }
   ],
   "source": [
    "reg_data['x'] = x\n",
    "fit_theta = False\n",
    "fit = False\n",
    "\n",
    "try:\n",
    "    rg = GLM.from_formula(model_formula, reg_data, family=Poisson()).fit()\n",
    "    fit = True\n",
    "except Exception as e:\n",
    "    fit = False"
   ]
  },
  {
   "cell_type": "code",
   "execution_count": 23,
   "metadata": {},
   "outputs": [
    {
     "data": {
      "text/html": [
       "<table class=\"simpletable\">\n",
       "<caption>Generalized Linear Model Regression Results</caption>\n",
       "<tr>\n",
       "  <th>Dep. Variable:</th>           <td>x</td>        <th>  No. Observations:  </th>  <td>     3</td> \n",
       "</tr>\n",
       "<tr>\n",
       "  <th>Model:</th>                  <td>GLM</td>       <th>  Df Residuals:      </th>  <td>     1</td> \n",
       "</tr>\n",
       "<tr>\n",
       "  <th>Model Family:</th>         <td>Poisson</td>     <th>  Df Model:          </th>  <td>     1</td> \n",
       "</tr>\n",
       "<tr>\n",
       "  <th>Link Function:</th>          <td>Log</td>       <th>  Scale:             </th> <td>  1.0000</td>\n",
       "</tr>\n",
       "<tr>\n",
       "  <th>Method:</th>                <td>IRLS</td>       <th>  Log-Likelihood:    </th> <td> -3.8151</td>\n",
       "</tr>\n",
       "<tr>\n",
       "  <th>Date:</th>            <td>Fri, 31 May 2024</td> <th>  Deviance:          </th> <td>0.024614</td>\n",
       "</tr>\n",
       "<tr>\n",
       "  <th>Time:</th>                <td>18:07:49</td>     <th>  Pearson chi2:      </th>  <td>0.0249</td> \n",
       "</tr>\n",
       "<tr>\n",
       "  <th>No. Iterations:</th>          <td>4</td>        <th>  Pseudo R-squ. (CS):</th>  <td>0.2887</td> \n",
       "</tr>\n",
       "<tr>\n",
       "  <th>Covariance Type:</th>     <td>nonrobust</td>    <th>                     </th>     <td> </td>   \n",
       "</tr>\n",
       "</table>\n",
       "<table class=\"simpletable\">\n",
       "<tr>\n",
       "      <td></td>         <th>coef</th>     <th>std err</th>      <th>z</th>      <th>P>|z|</th>  <th>[0.025</th>    <th>0.975]</th>  \n",
       "</tr>\n",
       "<tr>\n",
       "  <th>Intercept</th> <td>   -0.0027</td> <td>    0.005</td> <td>   -0.586</td> <td> 0.558</td> <td>   -0.012</td> <td>    0.006</td>\n",
       "</tr>\n",
       "<tr>\n",
       "  <th>var1</th>      <td>    0.0668</td> <td>    0.096</td> <td>    0.698</td> <td> 0.485</td> <td>   -0.121</td> <td>    0.255</td>\n",
       "</tr>\n",
       "<tr>\n",
       "  <th>var2</th>      <td>   -0.0146</td> <td>    0.044</td> <td>   -0.335</td> <td> 0.738</td> <td>   -0.100</td> <td>    0.071</td>\n",
       "</tr>\n",
       "</table>"
      ],
      "text/latex": [
       "\\begin{center}\n",
       "\\begin{tabular}{lclc}\n",
       "\\toprule\n",
       "\\textbf{Dep. Variable:}   &        x         & \\textbf{  No. Observations:  } &        3    \\\\\n",
       "\\textbf{Model:}           &       GLM        & \\textbf{  Df Residuals:      } &        1    \\\\\n",
       "\\textbf{Model Family:}    &     Poisson      & \\textbf{  Df Model:          } &        1    \\\\\n",
       "\\textbf{Link Function:}   &       Log        & \\textbf{  Scale:             } &    1.0000   \\\\\n",
       "\\textbf{Method:}          &       IRLS       & \\textbf{  Log-Likelihood:    } &   -3.8151   \\\\\n",
       "\\textbf{Date:}            & Fri, 31 May 2024 & \\textbf{  Deviance:          } &  0.024614   \\\\\n",
       "\\textbf{Time:}            &     18:07:49     & \\textbf{  Pearson chi2:      } &   0.0249    \\\\\n",
       "\\textbf{No. Iterations:}  &        4         & \\textbf{  Pseudo R-squ. (CS):} &   0.2887    \\\\\n",
       "\\textbf{Covariance Type:} &    nonrobust     & \\textbf{                     } &             \\\\\n",
       "\\bottomrule\n",
       "\\end{tabular}\n",
       "\\begin{tabular}{lcccccc}\n",
       "                   & \\textbf{coef} & \\textbf{std err} & \\textbf{z} & \\textbf{P$> |$z$|$} & \\textbf{[0.025} & \\textbf{0.975]}  \\\\\n",
       "\\midrule\n",
       "\\textbf{Intercept} &      -0.0027  &        0.005     &    -0.586  &         0.558        &       -0.012    &        0.006     \\\\\n",
       "\\textbf{var1}      &       0.0668  &        0.096     &     0.698  &         0.485        &       -0.121    &        0.255     \\\\\n",
       "\\textbf{var2}      &      -0.0146  &        0.044     &    -0.335  &         0.738        &       -0.100    &        0.071     \\\\\n",
       "\\bottomrule\n",
       "\\end{tabular}\n",
       "%\\caption{Generalized Linear Model Regression Results}\n",
       "\\end{center}"
      ],
      "text/plain": [
       "<class 'statsmodels.iolib.summary.Summary'>\n",
       "\"\"\"\n",
       "                 Generalized Linear Model Regression Results                  \n",
       "==============================================================================\n",
       "Dep. Variable:                      x   No. Observations:                    3\n",
       "Model:                            GLM   Df Residuals:                        1\n",
       "Model Family:                 Poisson   Df Model:                            1\n",
       "Link Function:                    Log   Scale:                          1.0000\n",
       "Method:                          IRLS   Log-Likelihood:                -3.8151\n",
       "Date:                Fri, 31 May 2024   Deviance:                     0.024614\n",
       "Time:                        18:07:49   Pearson chi2:                   0.0249\n",
       "No. Iterations:                     4   Pseudo R-squ. (CS):             0.2887\n",
       "Covariance Type:            nonrobust                                         \n",
       "==============================================================================\n",
       "                 coef    std err          z      P>|z|      [0.025      0.975]\n",
       "------------------------------------------------------------------------------\n",
       "Intercept     -0.0027      0.005     -0.586      0.558      -0.012       0.006\n",
       "var1           0.0668      0.096      0.698      0.485      -0.121       0.255\n",
       "var2          -0.0146      0.044     -0.335      0.738      -0.100       0.071\n",
       "==============================================================================\n",
       "\"\"\""
      ]
     },
     "execution_count": 23,
     "metadata": {},
     "output_type": "execute_result"
    }
   ],
   "source": [
    "rg.summary()"
   ]
  },
  {
   "cell_type": "code",
   "execution_count": 24,
   "metadata": {},
   "outputs": [
    {
     "name": "stdout",
     "output_type": "stream",
     "text": [
      "   Intercept  var1  var2\n",
      "0        1.0  10.0  40.0\n",
      "1        1.0  20.0  50.0\n",
      "2        1.0  30.0  60.0\n",
      "     x\n",
      "0  1.0\n",
      "1  2.0\n",
      "2  3.0\n"
     ]
    }
   ],
   "source": [
    "from patsy import dmatrices\n",
    "\n",
    "model_formula = 'x ~ var1 + var2'\n",
    "y, X = dmatrices(model_formula, reg_data, return_type='dataframe')\n",
    "print(X)\n",
    "print(y)"
   ]
  },
  {
   "cell_type": "code",
   "execution_count": 29,
   "metadata": {},
   "outputs": [
    {
     "name": "stdout",
     "output_type": "stream",
     "text": [
      "Fit successful: True\n"
     ]
    },
    {
     "name": "stderr",
     "output_type": "stream",
     "text": [
      "/home/ceger/miniforge3/envs/VarID-env/lib/python3.10/site-packages/statsmodels/regression/_tools.py:121: RuntimeWarning: divide by zero encountered in scalar divide\n",
      "  scale = np.dot(wresid, wresid) / df_resid\n"
     ]
    }
   ],
   "source": [
    "import numpy as np\n",
    "import pandas as pd\n",
    "from statsmodels.genmod.generalized_linear_model import GLM\n",
    "from statsmodels.genmod.families import Poisson\n",
    "\n",
    "# Example inputs\n",
    "x = np.array([1, 2, 3])\n",
    "model_formula = 'x ~ var1 + var2'\n",
    "reg_data = pd.DataFrame({\n",
    "    'var1': [10, 20, 30],\n",
    "    'var2': [40, 50, 60]\n",
    "})\n",
    "\n",
    "# Adding the 'x' column to reg_data\n",
    "reg_data['x'] = x\n",
    "\n",
    "# Initialize fit and fitTheta\n",
    "fit_theta = False\n",
    "fit = False\n",
    "\n",
    "# Try fitting the GLM model and catch errors\n",
    "try:\n",
    "    rg = GLM.from_formula(model_formula, reg_data, family=Poisson()).fit()\n",
    "    fit = True\n",
    "except Exception as e:\n",
    "    fit = False\n",
    "\n",
    "print(f\"Fit successful: {fit}\")\n"
   ]
  },
  {
   "cell_type": "code",
   "execution_count": 30,
   "metadata": {},
   "outputs": [
    {
     "data": {
      "text/html": [
       "<table class=\"simpletable\">\n",
       "<caption>Generalized Linear Model Regression Results</caption>\n",
       "<tr>\n",
       "  <th>Dep. Variable:</th>           <td>x</td>        <th>  No. Observations:  </th>  <td>     3</td> \n",
       "</tr>\n",
       "<tr>\n",
       "  <th>Model:</th>                  <td>GLM</td>       <th>  Df Residuals:      </th>  <td>     1</td> \n",
       "</tr>\n",
       "<tr>\n",
       "  <th>Model Family:</th>         <td>Poisson</td>     <th>  Df Model:          </th>  <td>     1</td> \n",
       "</tr>\n",
       "<tr>\n",
       "  <th>Link Function:</th>          <td>Log</td>       <th>  Scale:             </th> <td>  1.0000</td>\n",
       "</tr>\n",
       "<tr>\n",
       "  <th>Method:</th>                <td>IRLS</td>       <th>  Log-Likelihood:    </th> <td> -3.8151</td>\n",
       "</tr>\n",
       "<tr>\n",
       "  <th>Date:</th>            <td>Fri, 31 May 2024</td> <th>  Deviance:          </th> <td>0.024614</td>\n",
       "</tr>\n",
       "<tr>\n",
       "  <th>Time:</th>                <td>18:12:40</td>     <th>  Pearson chi2:      </th>  <td>0.0249</td> \n",
       "</tr>\n",
       "<tr>\n",
       "  <th>No. Iterations:</th>          <td>4</td>        <th>  Pseudo R-squ. (CS):</th>  <td>0.2887</td> \n",
       "</tr>\n",
       "<tr>\n",
       "  <th>Covariance Type:</th>     <td>nonrobust</td>    <th>                     </th>     <td> </td>   \n",
       "</tr>\n",
       "</table>\n",
       "<table class=\"simpletable\">\n",
       "<tr>\n",
       "      <td></td>         <th>coef</th>     <th>std err</th>      <th>z</th>      <th>P>|z|</th>  <th>[0.025</th>    <th>0.975]</th>  \n",
       "</tr>\n",
       "<tr>\n",
       "  <th>Intercept</th> <td>   -0.0027</td> <td>    0.005</td> <td>   -0.586</td> <td> 0.558</td> <td>   -0.012</td> <td>    0.006</td>\n",
       "</tr>\n",
       "<tr>\n",
       "  <th>var1</th>      <td>    0.0668</td> <td>    0.096</td> <td>    0.698</td> <td> 0.485</td> <td>   -0.121</td> <td>    0.255</td>\n",
       "</tr>\n",
       "<tr>\n",
       "  <th>var2</th>      <td>   -0.0146</td> <td>    0.044</td> <td>   -0.335</td> <td> 0.738</td> <td>   -0.100</td> <td>    0.071</td>\n",
       "</tr>\n",
       "</table>"
      ],
      "text/latex": [
       "\\begin{center}\n",
       "\\begin{tabular}{lclc}\n",
       "\\toprule\n",
       "\\textbf{Dep. Variable:}   &        x         & \\textbf{  No. Observations:  } &        3    \\\\\n",
       "\\textbf{Model:}           &       GLM        & \\textbf{  Df Residuals:      } &        1    \\\\\n",
       "\\textbf{Model Family:}    &     Poisson      & \\textbf{  Df Model:          } &        1    \\\\\n",
       "\\textbf{Link Function:}   &       Log        & \\textbf{  Scale:             } &    1.0000   \\\\\n",
       "\\textbf{Method:}          &       IRLS       & \\textbf{  Log-Likelihood:    } &   -3.8151   \\\\\n",
       "\\textbf{Date:}            & Fri, 31 May 2024 & \\textbf{  Deviance:          } &  0.024614   \\\\\n",
       "\\textbf{Time:}            &     18:12:40     & \\textbf{  Pearson chi2:      } &   0.0249    \\\\\n",
       "\\textbf{No. Iterations:}  &        4         & \\textbf{  Pseudo R-squ. (CS):} &   0.2887    \\\\\n",
       "\\textbf{Covariance Type:} &    nonrobust     & \\textbf{                     } &             \\\\\n",
       "\\bottomrule\n",
       "\\end{tabular}\n",
       "\\begin{tabular}{lcccccc}\n",
       "                   & \\textbf{coef} & \\textbf{std err} & \\textbf{z} & \\textbf{P$> |$z$|$} & \\textbf{[0.025} & \\textbf{0.975]}  \\\\\n",
       "\\midrule\n",
       "\\textbf{Intercept} &      -0.0027  &        0.005     &    -0.586  &         0.558        &       -0.012    &        0.006     \\\\\n",
       "\\textbf{var1}      &       0.0668  &        0.096     &     0.698  &         0.485        &       -0.121    &        0.255     \\\\\n",
       "\\textbf{var2}      &      -0.0146  &        0.044     &    -0.335  &         0.738        &       -0.100    &        0.071     \\\\\n",
       "\\bottomrule\n",
       "\\end{tabular}\n",
       "%\\caption{Generalized Linear Model Regression Results}\n",
       "\\end{center}"
      ],
      "text/plain": [
       "<class 'statsmodels.iolib.summary.Summary'>\n",
       "\"\"\"\n",
       "                 Generalized Linear Model Regression Results                  \n",
       "==============================================================================\n",
       "Dep. Variable:                      x   No. Observations:                    3\n",
       "Model:                            GLM   Df Residuals:                        1\n",
       "Model Family:                 Poisson   Df Model:                            1\n",
       "Link Function:                    Log   Scale:                          1.0000\n",
       "Method:                          IRLS   Log-Likelihood:                -3.8151\n",
       "Date:                Fri, 31 May 2024   Deviance:                     0.024614\n",
       "Time:                        18:12:40   Pearson chi2:                   0.0249\n",
       "No. Iterations:                     4   Pseudo R-squ. (CS):             0.2887\n",
       "Covariance Type:            nonrobust                                         \n",
       "==============================================================================\n",
       "                 coef    std err          z      P>|z|      [0.025      0.975]\n",
       "------------------------------------------------------------------------------\n",
       "Intercept     -0.0027      0.005     -0.586      0.558      -0.012       0.006\n",
       "var1           0.0668      0.096      0.698      0.485      -0.121       0.255\n",
       "var2          -0.0146      0.044     -0.335      0.738      -0.100       0.071\n",
       "==============================================================================\n",
       "\"\"\""
      ]
     },
     "execution_count": 30,
     "metadata": {},
     "output_type": "execute_result"
    }
   ],
   "source": [
    "rg.summary()"
   ]
  }
 ],
 "metadata": {
  "kernelspec": {
   "display_name": "VarID-env",
   "language": "python",
   "name": "python3"
  },
  "language_info": {
   "codemirror_mode": {
    "name": "ipython",
    "version": 3
   },
   "file_extension": ".py",
   "mimetype": "text/x-python",
   "name": "python",
   "nbconvert_exporter": "python",
   "pygments_lexer": "ipython3",
   "version": "3.10.14"
  }
 },
 "nbformat": 4,
 "nbformat_minor": 2
}
